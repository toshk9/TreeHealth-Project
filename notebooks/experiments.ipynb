{
 "cells": [
  {
   "cell_type": "code",
   "execution_count": 21,
   "metadata": {},
   "outputs": [],
   "source": [
    "import torch\n",
    "import torch.nn as nn\n",
    "import torch.optim as optim\n",
    "from torch.utils.data import DataLoader\n",
    "\n",
    "from sklearn.utils.class_weight import compute_class_weight\n",
    "from sklearn.model_selection import train_test_split\n",
    "from sklearn.metrics import classification_report\n",
    "\n",
    "import numpy as np\n",
    "import pandas as pd\n",
    "\n",
    "import sys\n",
    "\n",
    "sys.path.append(\"..\")\n",
    "\n",
    "from src.model import TabularModel\n",
    "from src.dataset import TreeHealthDataset\n",
    "from src.utils.hyperoptimization import load_best_trial"
   ]
  },
  {
   "cell_type": "code",
   "execution_count": 22,
   "metadata": {},
   "outputs": [],
   "source": [
    "data = pd.read_csv(\"../data/processed/tree-data-processed-vec.csv\")"
   ]
  },
  {
   "cell_type": "code",
   "execution_count": 23,
   "metadata": {},
   "outputs": [
    {
     "data": {
      "text/html": [
       "<div>\n",
       "<style scoped>\n",
       "    .dataframe tbody tr th:only-of-type {\n",
       "        vertical-align: middle;\n",
       "    }\n",
       "\n",
       "    .dataframe tbody tr th {\n",
       "        vertical-align: top;\n",
       "    }\n",
       "\n",
       "    .dataframe thead th {\n",
       "        text-align: right;\n",
       "    }\n",
       "</style>\n",
       "<table border=\"1\" class=\"dataframe\">\n",
       "  <thead>\n",
       "    <tr style=\"text-align: right;\">\n",
       "      <th></th>\n",
       "      <th>tree_dbh</th>\n",
       "      <th>health</th>\n",
       "      <th>spc_latin</th>\n",
       "      <th>user_type</th>\n",
       "      <th>problems</th>\n",
       "      <th>address</th>\n",
       "      <th>postcode</th>\n",
       "      <th>nta</th>\n",
       "      <th>boro_ct</th>\n",
       "      <th>month</th>\n",
       "      <th>day</th>\n",
       "      <th>tg_conditions</th>\n",
       "      <th>curb_loc</th>\n",
       "      <th>steward</th>\n",
       "      <th>guards</th>\n",
       "      <th>sidewalk</th>\n",
       "    </tr>\n",
       "  </thead>\n",
       "  <tbody>\n",
       "    <tr>\n",
       "      <th>0</th>\n",
       "      <td>0.007059</td>\n",
       "      <td>0</td>\n",
       "      <td>11</td>\n",
       "      <td>1</td>\n",
       "      <td>-0.206868</td>\n",
       "      <td>15310</td>\n",
       "      <td>157</td>\n",
       "      <td>124</td>\n",
       "      <td>1859</td>\n",
       "      <td>7</td>\n",
       "      <td>26</td>\n",
       "      <td>-0.286018</td>\n",
       "      <td>1</td>\n",
       "      <td>3</td>\n",
       "      <td>2</td>\n",
       "      <td>1</td>\n",
       "    </tr>\n",
       "    <tr>\n",
       "      <th>1</th>\n",
       "      <td>0.049412</td>\n",
       "      <td>0</td>\n",
       "      <td>108</td>\n",
       "      <td>1</td>\n",
       "      <td>0.030875</td>\n",
       "      <td>77475</td>\n",
       "      <td>140</td>\n",
       "      <td>151</td>\n",
       "      <td>1932</td>\n",
       "      <td>8</td>\n",
       "      <td>2</td>\n",
       "      <td>-0.372935</td>\n",
       "      <td>1</td>\n",
       "      <td>3</td>\n",
       "      <td>2</td>\n",
       "      <td>0</td>\n",
       "    </tr>\n",
       "    <tr>\n",
       "      <th>2</th>\n",
       "      <td>0.007059</td>\n",
       "      <td>1</td>\n",
       "      <td>57</td>\n",
       "      <td>2</td>\n",
       "      <td>-0.206868</td>\n",
       "      <td>245012</td>\n",
       "      <td>107</td>\n",
       "      <td>45</td>\n",
       "      <td>1007</td>\n",
       "      <td>8</td>\n",
       "      <td>4</td>\n",
       "      <td>0.236712</td>\n",
       "      <td>1</td>\n",
       "      <td>0</td>\n",
       "      <td>2</td>\n",
       "      <td>0</td>\n",
       "    </tr>\n",
       "    <tr>\n",
       "      <th>3</th>\n",
       "      <td>0.023529</td>\n",
       "      <td>1</td>\n",
       "      <td>57</td>\n",
       "      <td>2</td>\n",
       "      <td>0.030875</td>\n",
       "      <td>6283</td>\n",
       "      <td>107</td>\n",
       "      <td>45</td>\n",
       "      <td>1007</td>\n",
       "      <td>8</td>\n",
       "      <td>4</td>\n",
       "      <td>-0.372935</td>\n",
       "      <td>1</td>\n",
       "      <td>3</td>\n",
       "      <td>2</td>\n",
       "      <td>0</td>\n",
       "    </tr>\n",
       "    <tr>\n",
       "      <th>4</th>\n",
       "      <td>0.049412</td>\n",
       "      <td>1</td>\n",
       "      <td>124</td>\n",
       "      <td>2</td>\n",
       "      <td>0.030875</td>\n",
       "      <td>307673</td>\n",
       "      <td>111</td>\n",
       "      <td>16</td>\n",
       "      <td>741</td>\n",
       "      <td>7</td>\n",
       "      <td>29</td>\n",
       "      <td>-0.372935</td>\n",
       "      <td>1</td>\n",
       "      <td>3</td>\n",
       "      <td>2</td>\n",
       "      <td>0</td>\n",
       "    </tr>\n",
       "  </tbody>\n",
       "</table>\n",
       "</div>"
      ],
      "text/plain": [
       "   tree_dbh  health  spc_latin  user_type  problems  address  postcode  nta  \\\n",
       "0  0.007059       0         11          1 -0.206868    15310       157  124   \n",
       "1  0.049412       0        108          1  0.030875    77475       140  151   \n",
       "2  0.007059       1         57          2 -0.206868   245012       107   45   \n",
       "3  0.023529       1         57          2  0.030875     6283       107   45   \n",
       "4  0.049412       1        124          2  0.030875   307673       111   16   \n",
       "\n",
       "   boro_ct  month  day  tg_conditions  curb_loc  steward  guards  sidewalk  \n",
       "0     1859      7   26      -0.286018         1        3       2         1  \n",
       "1     1932      8    2      -0.372935         1        3       2         0  \n",
       "2     1007      8    4       0.236712         1        0       2         0  \n",
       "3     1007      8    4      -0.372935         1        3       2         0  \n",
       "4      741      7   29      -0.372935         1        3       2         0  "
      ]
     },
     "execution_count": 23,
     "metadata": {},
     "output_type": "execute_result"
    }
   ],
   "source": [
    "data.head()"
   ]
  },
  {
   "cell_type": "code",
   "execution_count": 24,
   "metadata": {},
   "outputs": [],
   "source": [
    "cat_features = [\n",
    "    \"spc_latin\",\n",
    "    \"user_type\",\n",
    "    \"address\",\n",
    "    \"postcode\",\n",
    "    \"nta\",\n",
    "    \"boro_ct\",\n",
    "    \"month\",\n",
    "    \"day\",\n",
    "]\n",
    "num_features = [\"tree_dbh\", \"problems\", \"tg_conditions\"]\n",
    "target_column = \"health\""
   ]
  },
  {
   "cell_type": "code",
   "execution_count": 25,
   "metadata": {},
   "outputs": [],
   "source": [
    "best_hyperparams = load_best_trial(\"..\\hyperopt\\hyperopt_results_1.json\")[\"result\"][\n",
    "    \"params\"\n",
    "]"
   ]
  },
  {
   "cell_type": "code",
   "execution_count": 26,
   "metadata": {},
   "outputs": [
    {
     "data": {
      "text/plain": [
       "{'batch_size': 1479.0,\n",
       " 'cat_emb_dim_0': 10.0,\n",
       " 'cat_emb_dim_1': 5.0,\n",
       " 'cat_emb_dim_2': 6.0,\n",
       " 'cat_emb_dim_3': 8.0,\n",
       " 'cat_emb_dim_4': 9.0,\n",
       " 'cat_emb_dim_5': 2.0,\n",
       " 'cat_emb_dim_6': 6.0,\n",
       " 'cat_emb_dim_7': 8.0,\n",
       " 'dropout_p': 0.3757636133377259,\n",
       " 'hidden_dim': 25.0,\n",
       " 'learning_rate': 0.0020986773983276454,\n",
       " 'weight_decay': 1.0060248893757618e-06}"
      ]
     },
     "execution_count": 26,
     "metadata": {},
     "output_type": "execute_result"
    }
   ],
   "source": [
    "best_hyperparams"
   ]
  },
  {
   "cell_type": "code",
   "execution_count": 27,
   "metadata": {},
   "outputs": [],
   "source": [
    "# HYPERPARAMS\n",
    "CAT_EMBEDDING_DIMS = [int(best_hyperparams[f\"cat_emb_dim_{i}\"]) for i in range(8)]\n",
    "HIDDEN_DIMS = [int(best_hyperparams[\"hidden_dim\"])]\n",
    "DROPOUT_P = best_hyperparams[\"dropout_p\"]\n",
    "BATCH_SIZE = int(best_hyperparams[\"batch_size\"])\n",
    "LEARNING_RATE = best_hyperparams[\"learning_rate\"]\n",
    "weight_decay = best_hyperparams[\"weight_decay\"]"
   ]
  },
  {
   "cell_type": "code",
   "execution_count": 28,
   "metadata": {},
   "outputs": [],
   "source": [
    "cat_cardinalities = [data.nunique()[feature] for feature in cat_features]\n",
    "num_numeric_features = len(num_features)\n",
    "num_classes = data[target_column].nunique()"
   ]
  },
  {
   "cell_type": "code",
   "execution_count": 33,
   "metadata": {},
   "outputs": [],
   "source": [
    "X = data[cat_features + num_features]\n",
    "y = data[target_column]\n",
    "\n",
    "X_train, X_temp, y_train, y_temp = train_test_split(\n",
    "    X, y, test_size=0.2, random_state=42, stratify=y\n",
    ")\n",
    "X_val, X_test, y_val, y_test = train_test_split(\n",
    "    X_temp, y_temp, test_size=0.5, random_state=42, stratify=y_temp\n",
    ")"
   ]
  },
  {
   "cell_type": "code",
   "execution_count": 34,
   "metadata": {},
   "outputs": [],
   "source": [
    "train_df = pd.concat([X_train, y_train], axis=1)\n",
    "val_df = pd.concat([X_val, y_val], axis=1)\n",
    "test_df = pd.concat([X_test, y_test], axis=1)"
   ]
  },
  {
   "cell_type": "code",
   "execution_count": 35,
   "metadata": {},
   "outputs": [],
   "source": [
    "train_dataset = TreeHealthDataset(train_df, cat_features, num_features, target_column)\n",
    "val_dataset = TreeHealthDataset(val_df, cat_features, num_features, target_column)\n",
    "test_dataset = TreeHealthDataset(test_df, cat_features, num_features, target_column)"
   ]
  },
  {
   "cell_type": "code",
   "execution_count": 36,
   "metadata": {},
   "outputs": [],
   "source": [
    "train_loader = DataLoader(train_dataset, batch_size=BATCH_SIZE, shuffle=True)\n",
    "val_loader = DataLoader(val_dataset, batch_size=BATCH_SIZE, shuffle=False)\n",
    "test_loader = DataLoader(test_dataset, batch_size=BATCH_SIZE, shuffle=False)"
   ]
  },
  {
   "cell_type": "code",
   "execution_count": 37,
   "metadata": {},
   "outputs": [],
   "source": [
    "device = torch.device(\"cuda\" if torch.cuda.is_available() else \"cpu\")"
   ]
  },
  {
   "cell_type": "code",
   "execution_count": 38,
   "metadata": {},
   "outputs": [],
   "source": [
    "model = torch.load(\"../models/torch_models/model_v1.pth\", weights_only=False)\n",
    "model = model.to(device)"
   ]
  },
  {
   "cell_type": "code",
   "execution_count": 40,
   "metadata": {},
   "outputs": [],
   "source": [
    "model = TabularModel(\n",
    "    cat_cardinalities,\n",
    "    CAT_EMBEDDING_DIMS,\n",
    "    num_numeric_features,\n",
    "    HIDDEN_DIMS,\n",
    "    num_classes,\n",
    "    dropout_p=DROPOUT_P,\n",
    ")\n",
    "model = model.to(device)"
   ]
  },
  {
   "cell_type": "code",
   "execution_count": 41,
   "metadata": {},
   "outputs": [
    {
     "data": {
      "text/plain": [
       "tensor([2.2530, 0.4110, 8.1212])"
      ]
     },
     "execution_count": 41,
     "metadata": {},
     "output_type": "execute_result"
    }
   ],
   "source": [
    "y_train_np = y_train.values\n",
    "class_weights = compute_class_weight(\n",
    "    class_weight=\"balanced\", classes=np.unique(y_train_np), y=y_train_np\n",
    ")\n",
    "class_weights = torch.tensor(class_weights, dtype=torch.float).to(device)\n",
    "class_weights"
   ]
  },
  {
   "cell_type": "code",
   "execution_count": 42,
   "metadata": {},
   "outputs": [],
   "source": [
    "criterion = nn.CrossEntropyLoss(weight=class_weights)\n",
    "optimizer = optim.Adam(model.parameters(), lr=LEARNING_RATE, weight_decay=weight_decay)"
   ]
  },
  {
   "cell_type": "code",
   "execution_count": 45,
   "metadata": {},
   "outputs": [
    {
     "name": "stdout",
     "output_type": "stream",
     "text": [
      "Epoch 1/2, Training Loss: 0.5798\n",
      "Validation Accuracy: 0.7586\n",
      "Epoch 2/2, Training Loss: 0.5560\n",
      "Validation Accuracy: 0.7562\n"
     ]
    }
   ],
   "source": [
    "num_epochs = 2\n",
    "for epoch in range(num_epochs):\n",
    "    epoch_loss = model.train_epoch(\n",
    "        train_loader, train_dataset, optimizer, criterion, device\n",
    "    )\n",
    "    print(f\"Epoch {epoch+1}/{num_epochs}, Training Loss: {epoch_loss:.4f}\")\n",
    "\n",
    "    val_accuracy = model.validate_model(val_loader, device)\n",
    "    print(f\"Validation Accuracy: {val_accuracy:.4f}\")"
   ]
  },
  {
   "cell_type": "code",
   "execution_count": 19,
   "metadata": {},
   "outputs": [],
   "source": [
    "model = torch.load(\"../models/torch_models/model_v1.pth\", weights_only=False)"
   ]
  },
  {
   "cell_type": "code",
   "execution_count": 46,
   "metadata": {},
   "outputs": [
    {
     "name": "stdout",
     "output_type": "stream",
     "text": [
      "              precision    recall  f1-score   support\n",
      "\n",
      "           0       0.31      0.30      0.30      9160\n",
      "           1       0.86      0.87      0.86     50208\n",
      "           2       0.18      0.16      0.17      2541\n",
      "\n",
      "    accuracy                           0.76     61909\n",
      "   macro avg       0.45      0.44      0.45     61909\n",
      "weighted avg       0.75      0.76      0.75     61909\n",
      "\n"
     ]
    }
   ],
   "source": [
    "print(classification_report(y_test, model.predict(test_loader, device)))"
   ]
  },
  {
   "cell_type": "code",
   "execution_count": 66,
   "metadata": {},
   "outputs": [
    {
     "data": {
      "text/plain": [
       "0.8438667714805681"
      ]
     },
     "execution_count": 66,
     "metadata": {},
     "output_type": "execute_result"
    }
   ],
   "source": [
    "model.validate_model(test_loader, device)"
   ]
  },
  {
   "cell_type": "code",
   "execution_count": 23,
   "metadata": {},
   "outputs": [],
   "source": [
    "torch.save(model, \"../models/torch_models/model_v2.pth\")"
   ]
  }
 ],
 "metadata": {
  "kernelspec": {
   "display_name": "venv",
   "language": "python",
   "name": "python3"
  },
  "language_info": {
   "codemirror_mode": {
    "name": "ipython",
    "version": 3
   },
   "file_extension": ".py",
   "mimetype": "text/x-python",
   "name": "python",
   "nbconvert_exporter": "python",
   "pygments_lexer": "ipython3",
   "version": "3.10.11"
  }
 },
 "nbformat": 4,
 "nbformat_minor": 2
}
